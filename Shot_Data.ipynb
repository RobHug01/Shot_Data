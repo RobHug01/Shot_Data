{
 "cells": [
  {
   "cell_type": "code",
   "execution_count": 1,
   "metadata": {},
   "outputs": [],
   "source": [
    "import pandas as pd\n",
    "import math"
   ]
  },
  {
   "cell_type": "code",
   "execution_count": 2,
   "metadata": {},
   "outputs": [
    {
     "name": "stdout",
     "output_type": "stream",
     "text": [
      "     team     x     y  fgmade\n",
      "0  Team A -23.1   3.5       0\n",
      "1  Team A   0.0  25.1       1\n",
      "2  Team A   0.5   1.0       1\n",
      "3  Team A  -5.6   5.2       0\n",
      "4  Team A   4.0  14.5       1\n",
      "5  Team A -13.6   4.0       1\n",
      "6  Team A  -9.0   7.2       1\n",
      "7  Team A  -1.2   1.5       1\n",
      "8  Team A  -9.2  15.3       0\n",
      "9  Team A -16.8  20.5       1\n"
     ]
    }
   ],
   "source": [
    "#Creates df of the shot data\n",
    "df = pd.read_csv(r'shots_data.csv')\n",
    "print(df.head(10))"
   ]
  },
  {
   "cell_type": "code",
   "execution_count": 3,
   "metadata": {},
   "outputs": [
    {
     "name": "stdout",
     "output_type": "stream",
     "text": [
      "     team     x     y  fgmade zone\n",
      "0  Team A -23.1   3.5       0   C3\n",
      "1  Team A   0.0  25.1       1  NC3\n",
      "2  Team A   0.5   1.0       1  2PT\n",
      "3  Team A  -5.6   5.2       0  2PT\n",
      "4  Team A   4.0  14.5       1  2PT\n",
      "5  Team A -13.6   4.0       1  2PT\n",
      "6  Team A  -9.0   7.2       1  2PT\n",
      "7  Team A  -1.2   1.5       1  2PT\n",
      "8  Team A  -9.2  15.3       0  2PT\n",
      "9  Team A -16.8  20.5       1  NC3\n"
     ]
    }
   ],
   "source": [
    "#Loops through the df and determines which zone the shot belongs in then appends that list to the df\n",
    "zone = []\n",
    "for i in range(len(df)):\n",
    "    if df.loc[i, \"y\"] <= 7.8:\n",
    "        if abs(df.loc[i, \"x\"]) > 22:\n",
    "             zone.append(\"C3\")\n",
    "        else:\n",
    "            zone.append(\"2PT\")\n",
    "    else:\n",
    "        if math.hypot(df.loc[i, \"x\"], df.loc[i, \"y\"]) > 23.75:\n",
    "            zone.append(\"NC3\")\n",
    "        else:\n",
    "            zone.append(\"2PT\")\n",
    "\n",
    "df[\"zone\"] = zone\n",
    "print(df.head(10))\n"
   ]
  },
  {
   "cell_type": "code",
   "execution_count": 4,
   "metadata": {},
   "outputs": [],
   "source": [
    "#eFG function for the entire team (made this just out of curiosity)\n",
    "def eFG(team):\n",
    "    _3PM = 0\n",
    "    FGM = 0\n",
    "    FGA = 0\n",
    "    for i in range(len(team)):\n",
    "        if team.iloc[i, 3]:\n",
    "            FGM += 1\n",
    "            if team.iloc[i, 4] != \"2PT\":\n",
    "                _3PM += 1\n",
    "        FGA += 1\n",
    "\n",
    "    return (FGM+(.5*_3PM))/FGA\n"
   ]
  },
  {
   "cell_type": "code",
   "execution_count": 5,
   "metadata": {},
   "outputs": [
    {
     "name": "stdout",
     "output_type": "stream",
     "text": [
      "Team A eFG%: 0.44107142857142856\n",
      "Team B eFG%: 0.48214285714285715\n"
     ]
    }
   ],
   "source": [
    "#Separates the df of each team and finds eFG% of entire team\n",
    "teamA = df[df[\"team\"] == \"Team A\"]\n",
    "teamB = df[df[\"team\"] == \"Team B\"]\n",
    "\n",
    "print(\"Team A eFG%: \" + str(eFG(teamA)))\n",
    "print(\"Team B eFG%: \" + str(eFG(teamB)))"
   ]
  },
  {
   "cell_type": "code",
   "execution_count": 6,
   "metadata": {},
   "outputs": [],
   "source": [
    "#eFG function for each zone of a team\n",
    "def eFG(team, zone):\n",
    "    zoned_team = team[team[\"zone\"] == zone]\n",
    "    _3PM = 0\n",
    "    FGM = 0\n",
    "    FGA = 0\n",
    "    for i in range(len(zoned_team)):\n",
    "        if zoned_team.iloc[i, 3]:\n",
    "            FGM += 1\n",
    "            if zone != \"2PT\":\n",
    "                _3PM += 1\n",
    "        FGA += 1\n",
    "\n",
    "    return (FGM+(.5*_3PM))/FGA"
   ]
  },
  {
   "cell_type": "code",
   "execution_count": 7,
   "metadata": {},
   "outputs": [
    {
     "name": "stdout",
     "output_type": "stream",
     "text": [
      "Team A 2PT eFG%: 0.4\n",
      "Team A NC3 eFG%: 0.48333333333333334\n",
      "Team A C3 eFG%: 0.6\n",
      "Team B 2PT eFG%: 0.4601226993865031\n",
      "Team B NC3 eFG%: 0.546875\n",
      "Team B C3 eFG%: 0.35714285714285715\n"
     ]
    }
   ],
   "source": [
    "print(\"Team A 2PT eFG%: \" + str(eFG(teamA, \"2PT\")))\n",
    "print(\"Team A NC3 eFG%: \" + str(eFG(teamA, \"NC3\")))\n",
    "print(\"Team A C3 eFG%: \" + str(eFG(teamA, \"C3\")))\n",
    "print(\"Team B 2PT eFG%: \" + str(eFG(teamB, \"2PT\")))\n",
    "print(\"Team B NC3 eFG%: \" + str(eFG(teamB, \"NC3\")))\n",
    "print(\"Team B C3 eFG%: \" + str(eFG(teamB, \"C3\")))"
   ]
  },
  {
   "cell_type": "code",
   "execution_count": 8,
   "metadata": {},
   "outputs": [],
   "source": [
    "#Calculates the shot frequency of each zone for a team\n",
    "def shotSpread(team):\n",
    "    C3 = team['zone'].value_counts()[\"C3\"]\n",
    "    NC3 = team['zone'].value_counts()[\"NC3\"]\n",
    "    _2PT = team['zone'].value_counts()[\"2PT\"]\n",
    "\n",
    "    FGA = len(team)\n",
    "\n",
    "    return _2PT/FGA, NC3/FGA, C3/FGA"
   ]
  },
  {
   "cell_type": "code",
   "execution_count": 9,
   "metadata": {},
   "outputs": [
    {
     "name": "stdout",
     "output_type": "stream",
     "text": [
      "Team A 2PT Freq:  0.6071428571428571\n",
      "Team A NC3 Freq:  0.32142857142857145\n",
      "Team A C3 Freq:  0.07142857142857142\n",
      "Team B 2PT Freq:  0.5821428571428572\n",
      "Team B NC3 Freq:  0.34285714285714286\n",
      "Team B C3 Freq:  0.075\n"
     ]
    }
   ],
   "source": [
    "teamA_spread = shotSpread(teamA)\n",
    "teamB_spread = shotSpread(teamB)\n",
    "\n",
    "print(\"Team A 2PT Freq: \", teamA_spread[0])\n",
    "print(\"Team A NC3 Freq: \", teamA_spread[1])\n",
    "print(\"Team A C3 Freq: \", teamA_spread[2])\n",
    "print(\"Team B 2PT Freq: \", teamB_spread[0])\n",
    "print(\"Team B NC3 Freq: \", teamB_spread[1])\n",
    "print(\"Team B C3 Freq: \", teamB_spread[2])"
   ]
  }
 ],
 "metadata": {
  "interpreter": {
   "hash": "e2d3ca570dc70d95a002fc2cec5654fbe28ade852a1bf71d6af91e0dd85c91b7"
  },
  "kernelspec": {
   "display_name": "Python 3.9.0 64-bit",
   "language": "python",
   "name": "python3"
  },
  "language_info": {
   "codemirror_mode": {
    "name": "ipython",
    "version": 3
   },
   "file_extension": ".py",
   "mimetype": "text/x-python",
   "name": "python",
   "nbconvert_exporter": "python",
   "pygments_lexer": "ipython3",
   "version": "3.9.0"
  },
  "orig_nbformat": 4
 },
 "nbformat": 4,
 "nbformat_minor": 2
}
